{
  "nbformat": 4,
  "nbformat_minor": 0,
  "metadata": {
    "colab": {
      "name": "mask.ipynb",
      "provenance": [],
      "private_outputs": true,
      "collapsed_sections": []
    },
    "kernelspec": {
      "name": "python3",
      "display_name": "Python 3"
    },
    "accelerator": "GPU"
  },
  "cells": [
    {
      "cell_type": "code",
      "metadata": {
        "id": "KIpyGyJoN10k",
        "colab_type": "code",
        "colab": {}
      },
      "source": [
        " from google.colab import files\n",
        " files.upload()"
      ],
      "execution_count": null,
      "outputs": []
    },
    {
      "cell_type": "code",
      "metadata": {
        "id": "jalX0bHOOH8R",
        "colab_type": "code",
        "colab": {}
      },
      "source": [
        "! mkdir ~/.kaggle\n",
        "! cp kaggle.json ~/.kaggle/"
      ],
      "execution_count": null,
      "outputs": []
    },
    {
      "cell_type": "code",
      "metadata": {
        "id": "6eYgPaW6OZ6a",
        "colab_type": "code",
        "colab": {}
      },
      "source": [
        "!kaggle datasets download -d ashishjangra27/face-mask-12k-images-dataset"
      ],
      "execution_count": null,
      "outputs": []
    },
    {
      "cell_type": "code",
      "metadata": {
        "id": "xB6OuPTiOerP",
        "colab_type": "code",
        "colab": {}
      },
      "source": [
        "import shutil"
      ],
      "execution_count": null,
      "outputs": []
    },
    {
      "cell_type": "code",
      "metadata": {
        "id": "N2tN0QoaOrVp",
        "colab_type": "code",
        "colab": {}
      },
      "source": [
        "shutil.copy(\"/content/face-mask-12k-images-dataset.zip\",\"/content/drive/My Drive/CNN/MaskDetect\")"
      ],
      "execution_count": null,
      "outputs": []
    },
    {
      "cell_type": "code",
      "metadata": {
        "id": "WnNdnoNcOzjI",
        "colab_type": "code",
        "colab": {}
      },
      "source": [
        "import os\n",
        "import PIL\n",
        "import tensorflow as tf\n",
        "import matplotlib.pyplot as plt\n",
        "%matplotlib inline\n",
        "import numpy as np\n",
        "import zipfile\n",
        "import cv2"
      ],
      "execution_count": null,
      "outputs": []
    },
    {
      "cell_type": "code",
      "metadata": {
        "id": "a591R3rcPPv0",
        "colab_type": "code",
        "colab": {}
      },
      "source": [
        "os.chdir(\"/content/drive/My Drive/CNN/MaskDetect\")\n",
        "print(os.getcwd())"
      ],
      "execution_count": null,
      "outputs": []
    },
    {
      "cell_type": "code",
      "metadata": {
        "id": "5yCB_s2wPU7j",
        "colab_type": "code",
        "colab": {}
      },
      "source": [
        "fl = zipfile.ZipFile(\"face-mask-12k-images-dataset.zip\" , \"r\")\n",
        "os.mkdir(\"./data\")"
      ],
      "execution_count": null,
      "outputs": []
    },
    {
      "cell_type": "code",
      "metadata": {
        "id": "G-jwLm0gPtWP",
        "colab_type": "code",
        "colab": {}
      },
      "source": [
        "fl.extractall(\"./data\")"
      ],
      "execution_count": null,
      "outputs": []
    },
    {
      "cell_type": "code",
      "metadata": {
        "id": "JeHq9SKzPyMn",
        "colab_type": "code",
        "colab": {}
      },
      "source": [
        "os.listdir(\"./data/Face Mask Dataset\")"
      ],
      "execution_count": null,
      "outputs": []
    },
    {
      "cell_type": "code",
      "metadata": {
        "id": "ufam9s6aQTm6",
        "colab_type": "code",
        "colab": {}
      },
      "source": [
        "os.listdir(\"./data/Face Mask Dataset/Test\")"
      ],
      "execution_count": null,
      "outputs": []
    },
    {
      "cell_type": "code",
      "metadata": {
        "id": "pE47UbIcQj1O",
        "colab_type": "code",
        "colab": {}
      },
      "source": [
        "print(\"No of Images(./data/Face Mask Dataset/Train/WithMask) : \",len(os.listdir(\"./data/Face Mask Dataset/Train/WithMask\")))\n",
        "print(\"No of images(./data/Face Mask Dataset/Train/WithoutMask) : \",len(\"./data/Face Mask Dataset/Train/WithoutMask\"))"
      ],
      "execution_count": null,
      "outputs": []
    },
    {
      "cell_type": "code",
      "metadata": {
        "id": "hpS2ZBDQQ071",
        "colab_type": "code",
        "colab": {}
      },
      "source": [
        "train_dir = \"/content/drive/My Drive/CNN/MaskDetect/data/Face Mask Dataset/Train\"\n",
        "test_dir  = \"/content/drive/My Drive/CNN/MaskDetect/data/Face Mask Dataset/Test\""
      ],
      "execution_count": null,
      "outputs": []
    },
    {
      "cell_type": "code",
      "metadata": {
        "id": "YzBwqmXwRtlF",
        "colab_type": "code",
        "colab": {}
      },
      "source": [
        "train_data_gen = tf.keras.preprocessing.image.ImageDataGenerator(rescale = (1.0 / 255.0) ,\n",
        "                                                                 height_shift_range = 0.15 ,\n",
        "                                                                 width_shift_range = 0.15 ,\n",
        "                                                                 zoom_range = 0.15 ,\n",
        "                                                                 horizontal_flip = True)\n",
        "\n",
        "test_data_gen  = tf.keras.preprocessing.image.ImageDataGenerator(rescale = (1.0 / 255.0))"
      ],
      "execution_count": null,
      "outputs": []
    },
    {
      "cell_type": "code",
      "metadata": {
        "id": "YWJdO28ESZRN",
        "colab_type": "code",
        "colab": {}
      },
      "source": [
        "a = cv2.imread(\"/content/drive/My Drive/CNN/MaskDetect/data/Face Mask Dataset/Test/WithoutMask/4179.png\")\n",
        "a.shape"
      ],
      "execution_count": null,
      "outputs": []
    },
    {
      "cell_type": "code",
      "metadata": {
        "id": "FhFGP1jgSomQ",
        "colab_type": "code",
        "colab": {}
      },
      "source": [
        "train_data = train_data_gen.flow_from_directory(train_dir , batch_size = 32 , target_size = (128 , 128) , class_mode = \"binary\")\n",
        "test_data  = train_data_gen.flow_from_directory(test_dir , batch_size = 32 , target_size = (128 , 128) , class_mode = \"binary\")"
      ],
      "execution_count": null,
      "outputs": []
    },
    {
      "cell_type": "code",
      "metadata": {
        "id": "uJ03_AUbSr7x",
        "colab_type": "code",
        "colab": {}
      },
      "source": [
        "_ , ax = plt.subplots(1,5,figsize=(20,5))\n",
        "for i in range(5):\n",
        "  ax[i].imshow(train_data[0][0][10])\n",
        "  ax[i].set_title(str(train_data[0][1][10]))"
      ],
      "execution_count": null,
      "outputs": []
    },
    {
      "cell_type": "code",
      "metadata": {
        "id": "jTMQRihwSuAr",
        "colab_type": "code",
        "colab": {}
      },
      "source": [
        "train_data.class_indices"
      ],
      "execution_count": null,
      "outputs": []
    },
    {
      "cell_type": "code",
      "metadata": {
        "id": "oqB6pImYVayn",
        "colab_type": "code",
        "colab": {}
      },
      "source": [
        "model1 = tf.keras.models.Sequential([\n",
        "    tf.keras.layers.Conv2D(16 , (3,3) , activation = \"relu\" , input_shape = (128 , 128 , 3)),\n",
        "    tf.keras.layers.MaxPool2D((2,2)),\n",
        "    tf.keras.layers.Conv2D(32 , (3,3) , activation = \"relu\"),\n",
        "    tf.keras.layers.MaxPool2D((2,2)),\n",
        "    tf.keras.layers.Conv2D(64 , (3,3) , activation = \"relu\"),\n",
        "    tf.keras.layers.MaxPool2D((2,2)),\n",
        "    tf.keras.layers.Conv2D(64 , (3,3) , activation = \"relu\"),\n",
        "    tf.keras.layers.MaxPool2D((2,2)),\n",
        "\n",
        "    tf.keras.layers.Flatten(),\n",
        "    tf.keras.layers.Dense(256 , activation = \"relu\"),\n",
        "    tf.keras.layers.Dense(256 , activation = \"relu\"),\n",
        "    tf.keras.layers.Dense(1 , activation = \"sigmoid\")\n",
        "])\n",
        "model1.compile(optimizer = \"rmsprop\" , loss = tf.keras.losses.binary_crossentropy , metrics = ['acc'])\n",
        "#model1.summary()"
      ],
      "execution_count": null,
      "outputs": []
    },
    {
      "cell_type": "code",
      "metadata": {
        "id": "haC7EbMwWM87",
        "colab_type": "code",
        "colab": {}
      },
      "source": [
        "his1 = model1.fit(train_data ,\n",
        "                  steps_per_epoch = train_data.n//train_data.batch_size ,\n",
        "                  epochs = 15 ,\n",
        "                  validation_data = test_data ,\n",
        "                  validation_steps = test_data.n // test_data.batch_size)"
      ],
      "execution_count": null,
      "outputs": []
    },
    {
      "cell_type": "code",
      "metadata": {
        "id": "YzKM6o5WW-FO",
        "colab_type": "code",
        "colab": {}
      },
      "source": [
        "model2 = tf.keras.models.Sequential([\n",
        "    tf.keras.layers.Conv2D(16 , (3,3) , activation = \"relu\" , input_shape = (128 , 128 , 3)),\n",
        "    tf.keras.layers.MaxPool2D((2,2)),\n",
        "    tf.keras.layers.Conv2D(32 , (3,3) , activation = \"relu\"),\n",
        "    tf.keras.layers.MaxPool2D((2,2)),\n",
        "    tf.keras.layers.Conv2D(64 , (3,3) , activation = \"relu\"),\n",
        "    tf.keras.layers.MaxPool2D((2,2)),\n",
        "    tf.keras.layers.Conv2D(64 , (3,3) , activation = \"relu\"),\n",
        "    tf.keras.layers.MaxPool2D((2,2)),\n",
        "    tf.keras.layers.Conv2D(64 , (3,3) , activation = \"relu\"),\n",
        "    tf.keras.layers.MaxPool2D((2,2)),\n",
        "\n",
        "    tf.keras.layers.Flatten(),\n",
        "    tf.keras.layers.Dense(256 , activation = \"relu\"),\n",
        "    tf.keras.layers.Dense(256 , activation = \"relu\"),\n",
        "    tf.keras.layers.Dense(1 , activation = \"sigmoid\")\n",
        "])\n",
        "model2.compile(optimizer = \"rmsprop\" , loss = tf.keras.losses.binary_crossentropy , metrics = ['acc'])\n",
        "#model1.summary()\n",
        "\n",
        "his2 = model2.fit(train_data ,\n",
        "                  steps_per_epoch = train_data.n//train_data.batch_size ,\n",
        "                  epochs = 15 ,\n",
        "                  validation_data = test_data ,\n",
        "                  validation_steps = test_data.n // test_data.batch_size)"
      ],
      "execution_count": null,
      "outputs": []
    },
    {
      "cell_type": "code",
      "metadata": {
        "id": "Wq-fJg1riqjd",
        "colab_type": "code",
        "colab": {}
      },
      "source": [
        "class_gen = {}\n",
        "for k,v in train_data.class_indices.items():\n",
        "    class_gen[v] = k\n",
        "print(class_gen)"
      ],
      "execution_count": null,
      "outputs": []
    },
    {
      "cell_type": "code",
      "metadata": {
        "id": "5WgWjdJucB88",
        "colab_type": "code",
        "colab": {}
      },
      "source": [
        "#prediction for model1\n",
        "img = tf.keras.utils.get_file(\"img1.jpg\",\"https://i.insider.com/5e7cded7ba85ee690669c204?width=1035&format=jpeg\")\n",
        "img = tf.keras.preprocessing.image.load_img(img , target_size = (128 , 128))\n",
        "img_ = tf.keras.preprocessing.image.img_to_array(img)\n",
        "print(\"Shape of img : \",img_.shape)\n",
        "#plt.imshow(img_)\n",
        "#plt.show()\n",
        "img_ = img_ / 255\n",
        "plt.imshow(img)\n",
        "plt.title(class_gen[model1.predict_classes(img_[np.newaxis , :])[0,0]])"
      ],
      "execution_count": null,
      "outputs": []
    },
    {
      "cell_type": "code",
      "metadata": {
        "id": "duyj9RT9kjks",
        "colab_type": "code",
        "colab": {}
      },
      "source": [
        "#prediction for model1\n",
        "img = tf.keras.utils.get_file(\"img1.jpg\",\"https://i.insider.com/5e7cded7ba85ee690669c204?width=1035&format=jpeg\")\n",
        "img = tf.keras.preprocessing.image.load_img(img , target_size = (128 , 128))\n",
        "img_ = tf.keras.preprocessing.image.img_to_array(img)\n",
        "print(\"Shape of img : \",img_.shape)\n",
        "#plt.imshow(img_)\n",
        "#plt.show()\n",
        "img_ = img_ / 255\n",
        "plt.imshow(img)\n",
        "plt.title(class_gen[model2.predict_classes(img_[np.newaxis , :])[0,0]])\n",
        "plt.show()"
      ],
      "execution_count": null,
      "outputs": []
    },
    {
      "cell_type": "code",
      "metadata": {
        "id": "bTfJCV77ipFL",
        "colab_type": "code",
        "colab": {}
      },
      "source": [
        "img = tf.keras.utils.get_file(\"img2.jpg\",\"https://post.healthline.com/wp-content/uploads/2020/04/Male_Face_Mask_732x549-thumbnail-2.jpg\")\n",
        "print(img)\n",
        "img = tf.keras.preprocessing.image.load_img(img , target_size = (128 , 128))\n",
        "img_ = tf.keras.preprocessing.image.img_to_array(img)\n",
        "print(\"Shape of img : \",img_.shape)\n",
        "#plt.imshow(img_)\n",
        "#plt.show()\n",
        "img_ = img_ / 255\n",
        "plt.imshow(img)\n",
        "plt.title(class_gen[model1.predict_classes(img_[np.newaxis , :])[0,0]])"
      ],
      "execution_count": null,
      "outputs": []
    },
    {
      "cell_type": "code",
      "metadata": {
        "id": "M7Pta6qNi26g",
        "colab_type": "code",
        "colab": {}
      },
      "source": [
        "#prediction for model2\n",
        "img = tf.keras.utils.get_file(\"img2.jpg\",\"https://post.healthline.com/wp-content/uploads/2020/04/Male_Face_Mask_732x549-thumbnail-2.jpg\")\n",
        "print(img)\n",
        "img = tf.keras.preprocessing.image.load_img(img , target_size = (128 , 128))\n",
        "img_ = tf.keras.preprocessing.image.img_to_array(img)\n",
        "print(\"Shape of img : \",img_.shape)\n",
        "#plt.imshow(img_)\n",
        "#plt.show()\n",
        "img_ = img_ / 255\n",
        "plt.imshow(img)\n",
        "plt.title(class_gen[model2.predict_classes(img_[np.newaxis , :])[0,0]])"
      ],
      "execution_count": null,
      "outputs": []
    },
    {
      "cell_type": "code",
      "metadata": {
        "id": "U5IUnsaTl5dx",
        "colab_type": "code",
        "colab": {}
      },
      "source": [
        "validation_data_gen = tf.keras.preprocessing.image.ImageDataGenerator(rescale = (1 / 255))"
      ],
      "execution_count": null,
      "outputs": []
    },
    {
      "cell_type": "code",
      "metadata": {
        "id": "nYMlpUdynqKi",
        "colab_type": "code",
        "colab": {}
      },
      "source": [
        "validation_data = validation_data_gen.flow_from_directory(\"/content/drive/My Drive/CNN/MaskDetect/data/Face Mask Dataset/Validation\" , \n",
        "                                                          class_mode = \"binary\",\n",
        "                                                          target_size = (128 , 128))"
      ],
      "execution_count": null,
      "outputs": []
    },
    {
      "cell_type": "code",
      "metadata": {
        "id": "yEb1CwtIoSy3",
        "colab_type": "code",
        "colab": {}
      },
      "source": [
        "print(\"Model1 accurecy for validation data : %.3f\"%(model1.evaluate(validation_data)[1] * 100))\n",
        "print(\"Model2 accurecy for validation data : %.3f\"%(model2.evaluate(validation_data)[1] * 100))"
      ],
      "execution_count": null,
      "outputs": []
    },
    {
      "cell_type": "code",
      "metadata": {
        "id": "x2Cg2fU8oYOs",
        "colab_type": "code",
        "colab": {}
      },
      "source": [
        "a = files.upload()"
      ],
      "execution_count": null,
      "outputs": []
    },
    {
      "cell_type": "code",
      "metadata": {
        "id": "si-kN0d3shk7",
        "colab_type": "code",
        "colab": {}
      },
      "source": [
        "def pred(path , ax , model = model1):\n",
        "    #prediction for model\n",
        "    img = tf.keras.preprocessing.image.load_img(path , target_size = (128 , 128))\n",
        "    img_ = tf.keras.preprocessing.image.img_to_array(img)\n",
        "    print(\"Shape of img : \",img_.shape)\n",
        "    #plt.imshow(img_)\n",
        "    #plt.show()\n",
        "    img_ = img_ / 255\n",
        "    ax.imshow(img)\n",
        "    ax.set_title(class_gen[model.predict_classes(img_[np.newaxis , :])[0,0]])"
      ],
      "execution_count": null,
      "outputs": []
    },
    {
      "cell_type": "code",
      "metadata": {
        "id": "GbvF9SBaso24",
        "colab_type": "code",
        "colab": {}
      },
      "source": [
        "_ , ax = plt.subplots(1,2,figsize = (9,4))\n",
        "pred(\"/content/drive/My Drive/CNN/MaskDetect/mask.jpg\" , ax[0] , model1)\n",
        "pred(\"/root/.keras/datasets/img2.jpg\" , ax[1] , model1)"
      ],
      "execution_count": null,
      "outputs": []
    }
  ]
}